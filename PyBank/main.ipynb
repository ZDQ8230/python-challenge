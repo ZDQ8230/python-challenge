{
 "cells": [
  {
   "cell_type": "code",
   "execution_count": 1,
   "id": "16aa3791-732e-4b24-9099-ea999b3f5b8a",
   "metadata": {},
   "outputs": [],
   "source": [
    "from pathlib import Path"
   ]
  },
  {
   "cell_type": "code",
   "execution_count": 2,
   "id": "08a20e99-73f7-4096-9681-314cc32655db",
   "metadata": {},
   "outputs": [],
   "source": [
    "import csv"
   ]
  },
  {
   "cell_type": "code",
   "execution_count": 3,
   "id": "e0f4ab18-0d3e-4369-befe-173dd2dabf92",
   "metadata": {},
   "outputs": [],
   "source": [
    "import pandas as pd"
   ]
  },
  {
   "cell_type": "code",
   "execution_count": 4,
   "id": "28d3d525-1d1f-4986-9a9c-4eaf11c0a11e",
   "metadata": {},
   "outputs": [],
   "source": [
    "total_month = 0\n",
    "total_profit = 0 \n",
    "PL0 = []\n",
    "line_num = 0 "
   ]
  },
  {
   "cell_type": "code",
   "execution_count": 5,
   "id": "07f0d959-c2fb-43c3-8988-1daea42b9014",
   "metadata": {},
   "outputs": [
    {
     "data": {
      "text/html": [
       "<div>\n",
       "<style scoped>\n",
       "    .dataframe tbody tr th:only-of-type {\n",
       "        vertical-align: middle;\n",
       "    }\n",
       "\n",
       "    .dataframe tbody tr th {\n",
       "        vertical-align: top;\n",
       "    }\n",
       "\n",
       "    .dataframe thead th {\n",
       "        text-align: right;\n",
       "    }\n",
       "</style>\n",
       "<table border=\"1\" class=\"dataframe\">\n",
       "  <thead>\n",
       "    <tr style=\"text-align: right;\">\n",
       "      <th></th>\n",
       "      <th>Profit/Losses</th>\n",
       "    </tr>\n",
       "    <tr>\n",
       "      <th>Date</th>\n",
       "      <th></th>\n",
       "    </tr>\n",
       "  </thead>\n",
       "  <tbody>\n",
       "    <tr>\n",
       "      <th>Jan-2010</th>\n",
       "      <td>NaN</td>\n",
       "    </tr>\n",
       "    <tr>\n",
       "      <th>Feb-2010</th>\n",
       "      <td>116771.0</td>\n",
       "    </tr>\n",
       "    <tr>\n",
       "      <th>Mar-2010</th>\n",
       "      <td>-662642.0</td>\n",
       "    </tr>\n",
       "    <tr>\n",
       "      <th>Apr-2010</th>\n",
       "      <td>-391430.0</td>\n",
       "    </tr>\n",
       "    <tr>\n",
       "      <th>May-2010</th>\n",
       "      <td>379920.0</td>\n",
       "    </tr>\n",
       "  </tbody>\n",
       "</table>\n",
       "</div>"
      ],
      "text/plain": [
       "          Profit/Losses\n",
       "Date                   \n",
       "Jan-2010            NaN\n",
       "Feb-2010       116771.0\n",
       "Mar-2010      -662642.0\n",
       "Apr-2010      -391430.0\n",
       "May-2010       379920.0"
      ]
     },
     "execution_count": 5,
     "metadata": {},
     "output_type": "execute_result"
    }
   ],
   "source": [
    "budget = Path(\"/Users/haihai/Desktop/python-challenge/PyBank/budget_data.csv\")\n",
    "\n",
    "df = pd.read_csv(budget)\n",
    "\n",
    "df.head()\n",
    "\n",
    "change = df.set_index('Date').diff()\n",
    "\n",
    "change.head()"
   ]
  },
  {
   "cell_type": "code",
   "execution_count": 7,
   "id": "cd4ef431-dcc3-45a9-b24f-93a017c9d435",
   "metadata": {},
   "outputs": [
    {
     "name": "stdout",
     "output_type": "stream",
     "text": [
      "Current working directory is /Users/haihai/Desktop/python-challenge/PyBank\n"
     ]
    }
   ],
   "source": [
    "print (f\"Current working directory is {Path.cwd()}\")"
   ]
  },
  {
   "cell_type": "code",
   "execution_count": 8,
   "id": "75a432c9-90d6-49f2-8386-a34597f0cd46",
   "metadata": {},
   "outputs": [
    {
     "name": "stdout",
     "output_type": "stream",
     "text": [
      "<class '_io.TextIOWrapper'>\n",
      "<class '_csv.reader'>\n",
      "['Date', 'Profit/Losses']\n",
      "['Jan-2010', '867884']\n",
      "['Feb-2010', '984655']\n",
      "['Mar-2010', '322013']\n",
      "['Apr-2010', '-69417']\n",
      "['May-2010', '310503']\n",
      "['Jun-2010', '522857']\n",
      "['Jul-2010', '1033096']\n",
      "['Aug-2010', '604885']\n",
      "['Sep-2010', '-216386']\n",
      "['Oct-2010', '477532']\n",
      "['Nov-2010', '893810']\n",
      "['Dec-2010', '-80353']\n",
      "['Jan-2011', '779806']\n",
      "['Feb-2011', '-335203']\n",
      "['Mar-2011', '697845']\n",
      "['Apr-2011', '793163']\n",
      "['May-2011', '485070']\n",
      "['Jun-2011', '584122']\n",
      "['Jul-2011', '62729']\n",
      "['Aug-2011', '668179']\n",
      "['Sep-2011', '899906']\n",
      "['Oct-2011', '834719']\n",
      "['Nov-2011', '132003']\n",
      "['Dec-2011', '309978']\n",
      "['Jan-2012', '-755566']\n",
      "['Feb-2012', '1170593']\n",
      "['Mar-2012', '252788']\n",
      "['Apr-2012', '1151518']\n",
      "['May-2012', '817256']\n",
      "['Jun-2012', '570757']\n",
      "['Jul-2012', '506702']\n",
      "['Aug-2012', '-1022534']\n",
      "['Sep-2012', '475062']\n",
      "['Oct-2012', '779976']\n",
      "['Nov-2012', '144175']\n",
      "['Dec-2012', '542494']\n",
      "['Jan-2013', '359333']\n",
      "['Feb-2013', '321469']\n",
      "['Mar-2013', '67780']\n",
      "['Apr-2013', '471435']\n",
      "['May-2013', '565603']\n",
      "['Jun-2013', '872480']\n",
      "['Jul-2013', '789480']\n",
      "['Aug-2013', '999942']\n",
      "['Sep-2013', '-1196225']\n",
      "['Oct-2013', '268997']\n",
      "['Nov-2013', '-687986']\n",
      "['Dec-2013', '1150461']\n",
      "['Jan-2014', '682458']\n",
      "['Feb-2014', '617856']\n",
      "['Mar-2014', '824098']\n",
      "['Apr-2014', '581943']\n",
      "['May-2014', '132864']\n",
      "['Jun-2014', '448062']\n",
      "['Jul-2014', '689161']\n",
      "['Aug-2014', '800701']\n",
      "['Sep-2014', '1166643']\n",
      "['Oct-2014', '947333']\n",
      "['Nov-2014', '578668']\n",
      "['Dec-2014', '988505']\n",
      "['Jan-2015', '1139715']\n",
      "['Feb-2015', '1029471']\n",
      "['Mar-2015', '687533']\n",
      "['Apr-2015', '-524626']\n",
      "['May-2015', '158620']\n",
      "['Jun-2015', '87795']\n",
      "['Jul-2015', '423389']\n",
      "['Aug-2015', '840723']\n",
      "['Sep-2015', '568529']\n",
      "['Oct-2015', '332067']\n",
      "['Nov-2015', '989499']\n",
      "['Dec-2015', '778237']\n",
      "['Jan-2016', '650000']\n",
      "['Feb-2016', '-1100387']\n",
      "['Mar-2016', '-174946']\n",
      "['Apr-2016', '757143']\n",
      "['May-2016', '445709']\n",
      "['Jun-2016', '712961']\n",
      "['Jul-2016', '-1163797']\n",
      "['Aug-2016', '569899']\n",
      "['Sep-2016', '768450']\n",
      "['Oct-2016', '102685']\n",
      "['Nov-2016', '795914']\n",
      "['Dec-2016', '60988']\n",
      "['Jan-2017', '138230']\n",
      "['Feb-2017', '671099']\n"
     ]
    }
   ],
   "source": [
    "with open(budget, 'r') as csvfile:\n",
    "    print (type(csvfile))\n",
    "    csvread=csv.reader(csvfile, delimiter=',')\n",
    "    print (type(csvread))\n",
    "    header = next(csvread)\n",
    "    line_num += 1\n",
    "    print (f\"{header}\")\n",
    "    for row in csvread: \n",
    "        print (row)\n",
    "        PL = int(row[1])\n",
    "        PL0.append(PL)"
   ]
  },
  {
   "cell_type": "code",
   "execution_count": 9,
   "id": "83cb5c34-f3e4-4264-8f9c-f08f348e0a9e",
   "metadata": {},
   "outputs": [],
   "source": [
    "# to calculate the total month and total profit/losses \n",
    "\n",
    "for x in PL0:\n",
    "    total_profit += x \n",
    "    total_month += 1 "
   ]
  },
  {
   "cell_type": "code",
   "execution_count": 21,
   "id": "f13653c6-5b43-4d2e-8f92-5c3e14d48da6",
   "metadata": {},
   "outputs": [],
   "source": [
    "change_everyday_2 = change['Profit/Losses'].tolist()"
   ]
  },
  {
   "cell_type": "code",
   "execution_count": 22,
   "id": "079092d6-7e91-407f-abb9-fcb2b8a1defa",
   "metadata": {},
   "outputs": [
    {
     "name": "stdout",
     "output_type": "stream",
     "text": [
      "<class 'list'>\n"
     ]
    }
   ],
   "source": [
    "print(type(change_everyday_2))\n",
    "\n",
    "del change_everyday_2[0]"
   ]
  },
  {
   "cell_type": "code",
   "execution_count": 23,
   "id": "fd88179c-7488-4659-9385-8672603caead",
   "metadata": {},
   "outputs": [],
   "source": [
    "#maximum increase in profit \n",
    "\n",
    "positive_increase = max(change_everyday_2)"
   ]
  },
  {
   "cell_type": "code",
   "execution_count": 24,
   "id": "a27935f9-ddb3-4e6b-93b4-01d189beb5ba",
   "metadata": {},
   "outputs": [],
   "source": [
    "#maximum decrease in loss\n",
    "\n",
    "negative_increase = min(change_everyday_2)"
   ]
  },
  {
   "cell_type": "code",
   "execution_count": 30,
   "id": "ca6078a4-57a8-4afd-b145-c1ddab8d86d2",
   "metadata": {},
   "outputs": [],
   "source": [
    "# average change in profit/\n",
    "average_change = sum(change_everyday_2)/85"
   ]
  },
  {
   "cell_type": "code",
   "execution_count": 31,
   "id": "399d6c99-d46c-46ac-a9ec-cce5b9dfde38",
   "metadata": {},
   "outputs": [
    {
     "name": "stdout",
     "output_type": "stream",
     "text": [
      "Financial analysis\n",
      "----------------------\n",
      "Total Months 86\n",
      "Total: $ 38382578\n",
      "Average change $ -2315.12\n",
      "Increase in profit $1926159\n",
      "Increase in losses $-2196167\n"
     ]
    }
   ],
   "source": [
    "print(\"Financial analysis\")\n",
    "\n",
    "print(\"----------------------\")\n",
    "\n",
    "print(f\"Total Months {total_month}\")\n",
    "\n",
    "print(f\"Total: $ {total_profit}\")\n",
    "\n",
    "print (f\"Average change $ {round(average_change, 2 )}\")\n",
    "\n",
    "print (f\"Increase in profit ${int(positive_increase)}\")\n",
    "\n",
    "print (f\"Increase in losses ${int(negative_increase)}\")"
   ]
  },
  {
   "cell_type": "code",
   "execution_count": null,
   "id": "1dde8803-08af-4d58-ba8f-5120570ef51c",
   "metadata": {},
   "outputs": [],
   "source": []
  }
 ],
 "metadata": {
  "kernelspec": {
   "display_name": "Python 3",
   "language": "python",
   "name": "python3"
  },
  "language_info": {
   "codemirror_mode": {
    "name": "ipython",
    "version": 3
   },
   "file_extension": ".py",
   "mimetype": "text/x-python",
   "name": "python",
   "nbconvert_exporter": "python",
   "pygments_lexer": "ipython3",
   "version": "3.8.8"
  }
 },
 "nbformat": 4,
 "nbformat_minor": 5
}
